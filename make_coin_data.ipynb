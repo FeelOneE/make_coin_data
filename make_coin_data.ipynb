{
  "nbformat": 4,
  "nbformat_minor": 0,
  "metadata": {
    "colab": {
      "name": "make_coin_data.ipynb",
      "provenance": [],
      "collapsed_sections": [],
      "authorship_tag": "ABX9TyMCWvUXYNRTK3WNySgc2fpD",
      "include_colab_link": true
    },
    "kernelspec": {
      "name": "python3",
      "display_name": "Python 3"
    },
    "language_info": {
      "name": "python"
    }
  },
  "cells": [
    {
      "cell_type": "markdown",
      "metadata": {
        "id": "view-in-github",
        "colab_type": "text"
      },
      "source": [
        "<a href=\"https://colab.research.google.com/github/FeelOneE/make_coin_data/blob/main/make_coin_data.ipynb\" target=\"_parent\"><img src=\"https://colab.research.google.com/assets/colab-badge.svg\" alt=\"Open In Colab\"/></a>"
      ]
    },
    {
      "cell_type": "code",
      "source": [
        "from google.colab import drive\n",
        "drive.mount('/content/drive')"
      ],
      "metadata": {
        "colab": {
          "base_uri": "https://localhost:8080/"
        },
        "id": "s6qaFyiNginf",
        "outputId": "854338cc-4325-41e9-a998-f4452bb39666"
      },
      "execution_count": 3,
      "outputs": [
        {
          "output_type": "stream",
          "name": "stdout",
          "text": [
            "Drive already mounted at /content/drive; to attempt to forcibly remount, call drive.mount(\"/content/drive\", force_remount=True).\n"
          ]
        }
      ]
    },
    {
      "cell_type": "code",
      "source": [
        "%cd /content/drive/MyDrive/스터디/코인 트레이드/\n",
        "%ls -al"
      ],
      "metadata": {
        "colab": {
          "base_uri": "https://localhost:8080/"
        },
        "id": "s5i-QYJYgr45",
        "outputId": "21deaa27-04f0-4290-9f3c-7a84315568a1"
      },
      "execution_count": 4,
      "outputs": [
        {
          "output_type": "stream",
          "name": "stdout",
          "text": [
            "/content/drive/MyDrive/스터디/코인 트레이드\n",
            "total 1456\n",
            "-rw------- 1 root root   89389 Dec 31 07:30 coin_project.ipynb\n",
            "drwx------ 2 root root    4096 Dec 20 03:04 \u001b[0m\u001b[01;34mcoin_trading\u001b[0m/\n",
            "-rw------- 1 root root 1391971 Dec 20 03:02 coin_trading.gz\n",
            "drwx------ 2 root root    4096 Dec 18 08:29 \u001b[01;34mdata\u001b[0m/\n",
            "-rw------- 1 root root     151 Dec 26 11:58 설계.gdoc\n"
          ]
        }
      ]
    },
    {
      "cell_type": "code",
      "execution_count": 5,
      "metadata": {
        "id": "9n7nKQ85gbWy"
      },
      "outputs": [],
      "source": [
        "\n",
        "import requests\n",
        "import time\n",
        "import json\n",
        "import csv\n",
        "import pandas as pd\n",
        "\n",
        "#종목명\n",
        "ticker = \"KRW-STX\"\n",
        "#데이터 개수\n",
        "max_size = 30000\n",
        "\n",
        "def get_info(times):\n",
        "    times = times\n",
        "    count = \"200\"\n",
        "    url = \"https://api.upbit.com/v1/candles/minutes/5?market=\"+ticker+\"&to=\"+times+\"&count=\"+count\n",
        "    headers = {\"Accept\": \"application/json\"}\n",
        "    response = requests.request(\"GET\", url, headers=headers)\n",
        "    candle_data = json.loads(response.text)\n",
        "    time.sleep(0.5)\n",
        "    return candle_data\n",
        "\n",
        "\n",
        "#최초 파일 작성\n",
        "file_name = 'data/'+ticker+'.csv'\n",
        "times = \"2021-12-17T15:10:00Z\"\n",
        "candle_data = get_info(times)\n",
        "data_file = open(file_name, 'w')\n",
        "csv_writer = csv.writer(data_file)\n",
        "\n",
        "count = 0\n",
        "\n",
        "\n",
        "for candle in candle_data:\n",
        "    if count == 0:\n",
        " \n",
        "        # Writing headers of CSV file\n",
        "        header = candle.keys()\n",
        "        csv_writer.writerow(header)\n",
        "        count += 1\n",
        " \n",
        "    # Writing data of CSV file\n",
        "    csv_writer.writerow(candle.values())\n",
        "\n",
        "data_file.close()\n",
        "\n",
        "#추가 정보 덧붙이기\n",
        "\n",
        "curr_row_size = 0\n",
        "next_time = \"\"\n",
        "\n",
        "while curr_row_size < max_size:\n",
        "    pd_data = pd.read_csv(file_name)\n",
        "    file_size = len(pd_data)\n",
        "    curr_row_size = file_size\n",
        "    next_time = str(pd_data['candle_date_time_utc'].iloc[-1]) + \"Z\"\n",
        "\n",
        "    candle_data = get_info(next_time)\n",
        "\n",
        "    data_file = open(file_name, 'a')\n",
        "    csv_writer = csv.writer(data_file)\n",
        "    for candle in candle_data:\n",
        "        csv_writer.writerow(candle.values())\n",
        "    data_file.close()"
      ]
    },
    {
      "cell_type": "code",
      "source": [
        "%cd /content/drive/MyDrive/스터디/코인 트레이드/data\n",
        "%ls -al"
      ],
      "metadata": {
        "colab": {
          "base_uri": "https://localhost:8080/"
        },
        "id": "HRMzF9RCiTKc",
        "outputId": "a2bac961-b6d8-4248-eb86-7d4b936dd7c9"
      },
      "execution_count": 7,
      "outputs": [
        {
          "output_type": "stream",
          "name": "stdout",
          "text": [
            "/content/drive/MyDrive/스터디/코인 트레이드/data\n",
            "total 40876\n",
            "-rw------- 1 root root   69784 Dec 19 13:56 cnn.h5\n",
            "drwx------ 4 root root    4096 Dec 19 09:41 \u001b[0m\u001b[01;34mcnn_prediction\u001b[0m/\n",
            "-rw------- 1 root root 4681048 Dec 31 06:52 cnn_prediction_bora.h5\n",
            "-rw------- 1 root root 4681048 Dec 31 07:29 cnn_prediction_eos.h5\n",
            "-rw------- 1 root root 4681048 Dec 26 15:14 cnn_prediction_sand.h5\n",
            "-rw------- 1 root root  185256 Dec 20 07:55 cnn_prediction_xlm.h5\n",
            "-rw------- 1 root root 4681048 Dec 26 16:04 cnn_prediction_xrp.h5\n",
            "-rw------- 1 root root 3802325 Dec 20 07:35 KRW-BORA.csv\n",
            "-rw------- 1 root root 3832322 Dec 20 08:03 KRW-EOS.csv\n",
            "-rw------- 1 root root 3836665 Dec 20 07:10 KRW-SAND.csv\n",
            "-rw------- 1 root root 3803894 Jan  2 11:27 KRW-STX.csv\n",
            "-rw------- 1 root root 3740209 Dec 20 07:46 KRW-XLM.csv\n",
            "-rw------- 1 root root    1349 Dec 20 07:36 scaler_bora.pkl\n",
            "-rw------- 1 root root    1349 Dec 20 08:03 scaler_eos.pkl\n",
            "-rw------- 1 root root    1349 Dec 19 09:40 scaler.pkl\n",
            "-rw------- 1 root root    1349 Dec 20 07:16 scaler_sand.pkl\n",
            "-rw------- 1 root root    1349 Dec 20 07:47 scaler_xlm.pkl\n",
            "-rw------- 1 root root       0 Dec 19 07:57 train.csv\n",
            "-rw------- 1 root root 3847495 Dec 18 08:07 XRP.csv\n"
          ]
        }
      ]
    },
    {
      "cell_type": "code",
      "source": [
        "import pandas as pd\n",
        "\n",
        "data = pd.read_csv(ticker+\".csv\")\n",
        "data.head(5)"
      ],
      "metadata": {
        "colab": {
          "base_uri": "https://localhost:8080/",
          "height": 357
        },
        "id": "Xfm1N50hjzlF",
        "outputId": "a54606c2-dae7-4543-90b6-c5058fabacc6"
      },
      "execution_count": 8,
      "outputs": [
        {
          "output_type": "execute_result",
          "data": {
            "text/html": [
              "\n",
              "  <div id=\"df-85d848aa-b545-4a4b-ac67-52d6cfc50c7b\">\n",
              "    <div class=\"colab-df-container\">\n",
              "      <div>\n",
              "<style scoped>\n",
              "    .dataframe tbody tr th:only-of-type {\n",
              "        vertical-align: middle;\n",
              "    }\n",
              "\n",
              "    .dataframe tbody tr th {\n",
              "        vertical-align: top;\n",
              "    }\n",
              "\n",
              "    .dataframe thead th {\n",
              "        text-align: right;\n",
              "    }\n",
              "</style>\n",
              "<table border=\"1\" class=\"dataframe\">\n",
              "  <thead>\n",
              "    <tr style=\"text-align: right;\">\n",
              "      <th></th>\n",
              "      <th>market</th>\n",
              "      <th>candle_date_time_utc</th>\n",
              "      <th>candle_date_time_kst</th>\n",
              "      <th>opening_price</th>\n",
              "      <th>high_price</th>\n",
              "      <th>low_price</th>\n",
              "      <th>trade_price</th>\n",
              "      <th>timestamp</th>\n",
              "      <th>candle_acc_trade_price</th>\n",
              "      <th>candle_acc_trade_volume</th>\n",
              "      <th>unit</th>\n",
              "    </tr>\n",
              "  </thead>\n",
              "  <tbody>\n",
              "    <tr>\n",
              "      <th>0</th>\n",
              "      <td>KRW-STX</td>\n",
              "      <td>2021-12-17T15:05:00</td>\n",
              "      <td>2021-12-18T00:05:00</td>\n",
              "      <td>2500.0</td>\n",
              "      <td>2510.0</td>\n",
              "      <td>2490.0</td>\n",
              "      <td>2505.0</td>\n",
              "      <td>1639753790982</td>\n",
              "      <td>2.902574e+08</td>\n",
              "      <td>116076.862769</td>\n",
              "      <td>5</td>\n",
              "    </tr>\n",
              "    <tr>\n",
              "      <th>1</th>\n",
              "      <td>KRW-STX</td>\n",
              "      <td>2021-12-17T15:00:00</td>\n",
              "      <td>2021-12-18T00:00:00</td>\n",
              "      <td>2510.0</td>\n",
              "      <td>2510.0</td>\n",
              "      <td>2480.0</td>\n",
              "      <td>2500.0</td>\n",
              "      <td>1639753499380</td>\n",
              "      <td>6.077594e+08</td>\n",
              "      <td>243743.898372</td>\n",
              "      <td>5</td>\n",
              "    </tr>\n",
              "    <tr>\n",
              "      <th>2</th>\n",
              "      <td>KRW-STX</td>\n",
              "      <td>2021-12-17T14:55:00</td>\n",
              "      <td>2021-12-17T23:55:00</td>\n",
              "      <td>2495.0</td>\n",
              "      <td>2510.0</td>\n",
              "      <td>2480.0</td>\n",
              "      <td>2510.0</td>\n",
              "      <td>1639753191273</td>\n",
              "      <td>4.635183e+08</td>\n",
              "      <td>186036.397951</td>\n",
              "      <td>5</td>\n",
              "    </tr>\n",
              "    <tr>\n",
              "      <th>3</th>\n",
              "      <td>KRW-STX</td>\n",
              "      <td>2021-12-17T14:50:00</td>\n",
              "      <td>2021-12-17T23:50:00</td>\n",
              "      <td>2515.0</td>\n",
              "      <td>2530.0</td>\n",
              "      <td>2485.0</td>\n",
              "      <td>2490.0</td>\n",
              "      <td>1639752898563</td>\n",
              "      <td>8.070087e+08</td>\n",
              "      <td>320669.588277</td>\n",
              "      <td>5</td>\n",
              "    </tr>\n",
              "    <tr>\n",
              "      <th>4</th>\n",
              "      <td>KRW-STX</td>\n",
              "      <td>2021-12-17T14:45:00</td>\n",
              "      <td>2021-12-17T23:45:00</td>\n",
              "      <td>2475.0</td>\n",
              "      <td>2520.0</td>\n",
              "      <td>2470.0</td>\n",
              "      <td>2515.0</td>\n",
              "      <td>1639752597929</td>\n",
              "      <td>1.047704e+09</td>\n",
              "      <td>420507.783137</td>\n",
              "      <td>5</td>\n",
              "    </tr>\n",
              "  </tbody>\n",
              "</table>\n",
              "</div>\n",
              "      <button class=\"colab-df-convert\" onclick=\"convertToInteractive('df-85d848aa-b545-4a4b-ac67-52d6cfc50c7b')\"\n",
              "              title=\"Convert this dataframe to an interactive table.\"\n",
              "              style=\"display:none;\">\n",
              "        \n",
              "  <svg xmlns=\"http://www.w3.org/2000/svg\" height=\"24px\"viewBox=\"0 0 24 24\"\n",
              "       width=\"24px\">\n",
              "    <path d=\"M0 0h24v24H0V0z\" fill=\"none\"/>\n",
              "    <path d=\"M18.56 5.44l.94 2.06.94-2.06 2.06-.94-2.06-.94-.94-2.06-.94 2.06-2.06.94zm-11 1L8.5 8.5l.94-2.06 2.06-.94-2.06-.94L8.5 2.5l-.94 2.06-2.06.94zm10 10l.94 2.06.94-2.06 2.06-.94-2.06-.94-.94-2.06-.94 2.06-2.06.94z\"/><path d=\"M17.41 7.96l-1.37-1.37c-.4-.4-.92-.59-1.43-.59-.52 0-1.04.2-1.43.59L10.3 9.45l-7.72 7.72c-.78.78-.78 2.05 0 2.83L4 21.41c.39.39.9.59 1.41.59.51 0 1.02-.2 1.41-.59l7.78-7.78 2.81-2.81c.8-.78.8-2.07 0-2.86zM5.41 20L4 18.59l7.72-7.72 1.47 1.35L5.41 20z\"/>\n",
              "  </svg>\n",
              "      </button>\n",
              "      \n",
              "  <style>\n",
              "    .colab-df-container {\n",
              "      display:flex;\n",
              "      flex-wrap:wrap;\n",
              "      gap: 12px;\n",
              "    }\n",
              "\n",
              "    .colab-df-convert {\n",
              "      background-color: #E8F0FE;\n",
              "      border: none;\n",
              "      border-radius: 50%;\n",
              "      cursor: pointer;\n",
              "      display: none;\n",
              "      fill: #1967D2;\n",
              "      height: 32px;\n",
              "      padding: 0 0 0 0;\n",
              "      width: 32px;\n",
              "    }\n",
              "\n",
              "    .colab-df-convert:hover {\n",
              "      background-color: #E2EBFA;\n",
              "      box-shadow: 0px 1px 2px rgba(60, 64, 67, 0.3), 0px 1px 3px 1px rgba(60, 64, 67, 0.15);\n",
              "      fill: #174EA6;\n",
              "    }\n",
              "\n",
              "    [theme=dark] .colab-df-convert {\n",
              "      background-color: #3B4455;\n",
              "      fill: #D2E3FC;\n",
              "    }\n",
              "\n",
              "    [theme=dark] .colab-df-convert:hover {\n",
              "      background-color: #434B5C;\n",
              "      box-shadow: 0px 1px 3px 1px rgba(0, 0, 0, 0.15);\n",
              "      filter: drop-shadow(0px 1px 2px rgba(0, 0, 0, 0.3));\n",
              "      fill: #FFFFFF;\n",
              "    }\n",
              "  </style>\n",
              "\n",
              "      <script>\n",
              "        const buttonEl =\n",
              "          document.querySelector('#df-85d848aa-b545-4a4b-ac67-52d6cfc50c7b button.colab-df-convert');\n",
              "        buttonEl.style.display =\n",
              "          google.colab.kernel.accessAllowed ? 'block' : 'none';\n",
              "\n",
              "        async function convertToInteractive(key) {\n",
              "          const element = document.querySelector('#df-85d848aa-b545-4a4b-ac67-52d6cfc50c7b');\n",
              "          const dataTable =\n",
              "            await google.colab.kernel.invokeFunction('convertToInteractive',\n",
              "                                                     [key], {});\n",
              "          if (!dataTable) return;\n",
              "\n",
              "          const docLinkHtml = 'Like what you see? Visit the ' +\n",
              "            '<a target=\"_blank\" href=https://colab.research.google.com/notebooks/data_table.ipynb>data table notebook</a>'\n",
              "            + ' to learn more about interactive tables.';\n",
              "          element.innerHTML = '';\n",
              "          dataTable['output_type'] = 'display_data';\n",
              "          await google.colab.output.renderOutput(dataTable, element);\n",
              "          const docLink = document.createElement('div');\n",
              "          docLink.innerHTML = docLinkHtml;\n",
              "          element.appendChild(docLink);\n",
              "        }\n",
              "      </script>\n",
              "    </div>\n",
              "  </div>\n",
              "  "
            ],
            "text/plain": [
              "    market candle_date_time_utc  ... candle_acc_trade_volume  unit\n",
              "0  KRW-STX  2021-12-17T15:05:00  ...           116076.862769     5\n",
              "1  KRW-STX  2021-12-17T15:00:00  ...           243743.898372     5\n",
              "2  KRW-STX  2021-12-17T14:55:00  ...           186036.397951     5\n",
              "3  KRW-STX  2021-12-17T14:50:00  ...           320669.588277     5\n",
              "4  KRW-STX  2021-12-17T14:45:00  ...           420507.783137     5\n",
              "\n",
              "[5 rows x 11 columns]"
            ]
          },
          "metadata": {},
          "execution_count": 8
        }
      ]
    },
    {
      "cell_type": "code",
      "source": [
        "len(data)"
      ],
      "metadata": {
        "colab": {
          "base_uri": "https://localhost:8080/"
        },
        "id": "el5YWDk5j_oK",
        "outputId": "e1532a5f-f706-4019-bf13-5624ee41a628"
      },
      "execution_count": 9,
      "outputs": [
        {
          "output_type": "execute_result",
          "data": {
            "text/plain": [
              "30200"
            ]
          },
          "metadata": {},
          "execution_count": 9
        }
      ]
    },
    {
      "cell_type": "code",
      "source": [
        ""
      ],
      "metadata": {
        "id": "9Cg-TFRUkFwM"
      },
      "execution_count": null,
      "outputs": []
    }
  ]
}